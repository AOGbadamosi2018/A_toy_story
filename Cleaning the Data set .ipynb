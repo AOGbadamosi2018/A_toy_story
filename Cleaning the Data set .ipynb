{
 "cells": [
  {
   "cell_type": "code",
   "execution_count": 94,
   "id": "8b19d423",
   "metadata": {},
   "outputs": [],
   "source": [
    "\n",
    "import pandas as pd\n",
    "from pandas import DataFrame\n",
    "import re\n"
   ]
  },
  {
   "cell_type": "code",
   "execution_count": 95,
   "id": "eaa01f05",
   "metadata": {},
   "outputs": [],
   "source": [
    "#IMPORTATION\n",
    "#reading the workbook\n",
    "file_info=pd.read_csv(\"fashion-trend-analysis-QueryResult (1).csv\")\n",
    "\n",
    "target = pd.DataFrame(file_info)"
   ]
  },
  {
   "cell_type": "code",
   "execution_count": 96,
   "id": "4cf16a08",
   "metadata": {},
   "outputs": [
    {
     "data": {
      "text/html": [
       "<div>\n",
       "<style scoped>\n",
       "    .dataframe tbody tr th:only-of-type {\n",
       "        vertical-align: middle;\n",
       "    }\n",
       "\n",
       "    .dataframe tbody tr th {\n",
       "        vertical-align: top;\n",
       "    }\n",
       "\n",
       "    .dataframe thead th {\n",
       "        text-align: right;\n",
       "    }\n",
       "</style>\n",
       "<table border=\"1\" class=\"dataframe\">\n",
       "  <thead>\n",
       "    <tr style=\"text-align: right;\">\n",
       "      <th></th>\n",
       "      <th>uniq_id</th>\n",
       "      <th>product_name</th>\n",
       "      <th>manufacturer</th>\n",
       "      <th>price</th>\n",
       "      <th>number_available_in_stock</th>\n",
       "      <th>number_of_reviews</th>\n",
       "      <th>number_of_answered_questions</th>\n",
       "      <th>average_review_rating</th>\n",
       "      <th>amazon_category_and_sub_category</th>\n",
       "      <th>customers_who_bought_this_item_also_bought</th>\n",
       "      <th>description</th>\n",
       "      <th>product_information</th>\n",
       "      <th>product_description</th>\n",
       "      <th>items_customers_buy_after_viewing_this_item</th>\n",
       "      <th>customer_questions_and_answers</th>\n",
       "      <th>customer_reviews</th>\n",
       "      <th>sellers</th>\n",
       "    </tr>\n",
       "  </thead>\n",
       "  <tbody>\n",
       "    <tr>\n",
       "      <th>0</th>\n",
       "      <td>eac7efa5dbd3d667f26eb3d3ab504464</td>\n",
       "      <td>Hornby 2014 Catalogue</td>\n",
       "      <td>Hornby</td>\n",
       "      <td>£3.42</td>\n",
       "      <td>5 new</td>\n",
       "      <td>15.0</td>\n",
       "      <td>1.0</td>\n",
       "      <td>4.9 out of 5 stars</td>\n",
       "      <td>Hobbies &gt; Model Trains &amp; Railway Sets &gt; Rail V...</td>\n",
       "      <td>http://www.amazon.co.uk/Hornby-R8150-Catalogue...</td>\n",
       "      <td>Product Description Hornby 2014 Catalogue Box ...</td>\n",
       "      <td>Technical Details Item Weight640 g Product Dim...</td>\n",
       "      <td>Product Description Hornby 2014 Catalogue Box ...</td>\n",
       "      <td>http://www.amazon.co.uk/Hornby-R8150-Catalogue...</td>\n",
       "      <td>Does this catalogue detail all the previous Ho...</td>\n",
       "      <td>Worth Buying For The Pictures Alone (As Ever) ...</td>\n",
       "      <td>{\"seller\"=&gt;[{\"Seller_name_1\"=&gt;\"Amazon.co.uk\", ...</td>\n",
       "    </tr>\n",
       "    <tr>\n",
       "      <th>1</th>\n",
       "      <td>b17540ef7e86e461d37f3ae58b7b72ac</td>\n",
       "      <td>FunkyBuys® Large Christmas Holiday Express Fes...</td>\n",
       "      <td>FunkyBuys</td>\n",
       "      <td>£16.99</td>\n",
       "      <td>NaN</td>\n",
       "      <td>2.0</td>\n",
       "      <td>1.0</td>\n",
       "      <td>4.5 out of 5 stars</td>\n",
       "      <td>Hobbies &gt; Model Trains &amp; Railway Sets &gt; Rail V...</td>\n",
       "      <td>http://www.amazon.co.uk/Christmas-Holiday-Expr...</td>\n",
       "      <td>Size Name:Large FunkyBuys® Large Christmas Hol...</td>\n",
       "      <td>Technical Details Manufacturer recommended age...</td>\n",
       "      <td>Size Name:Large FunkyBuys® Large Christmas Hol...</td>\n",
       "      <td>http://www.amazon.co.uk/Christmas-Holiday-Expr...</td>\n",
       "      <td>can you turn off sounds // hi no you cant turn...</td>\n",
       "      <td>Four Stars // 4.0 // 18 Dec. 2015 // By\\n    \\...</td>\n",
       "      <td>{\"seller\"=&gt;{\"Seller_name_1\"=&gt;\"UHD WHOLESALE\", ...</td>\n",
       "    </tr>\n",
       "  </tbody>\n",
       "</table>\n",
       "</div>"
      ],
      "text/plain": [
       "                            uniq_id  \\\n",
       "0  eac7efa5dbd3d667f26eb3d3ab504464   \n",
       "1  b17540ef7e86e461d37f3ae58b7b72ac   \n",
       "\n",
       "                                        product_name manufacturer   price  \\\n",
       "0                              Hornby 2014 Catalogue       Hornby   £3.42   \n",
       "1  FunkyBuys® Large Christmas Holiday Express Fes...    FunkyBuys  £16.99   \n",
       "\n",
       "  number_available_in_stock  number_of_reviews  number_of_answered_questions  \\\n",
       "0                     5 new               15.0                           1.0   \n",
       "1                       NaN                2.0                           1.0   \n",
       "\n",
       "  average_review_rating                   amazon_category_and_sub_category  \\\n",
       "0    4.9 out of 5 stars  Hobbies > Model Trains & Railway Sets > Rail V...   \n",
       "1    4.5 out of 5 stars  Hobbies > Model Trains & Railway Sets > Rail V...   \n",
       "\n",
       "          customers_who_bought_this_item_also_bought  \\\n",
       "0  http://www.amazon.co.uk/Hornby-R8150-Catalogue...   \n",
       "1  http://www.amazon.co.uk/Christmas-Holiday-Expr...   \n",
       "\n",
       "                                         description  \\\n",
       "0  Product Description Hornby 2014 Catalogue Box ...   \n",
       "1  Size Name:Large FunkyBuys® Large Christmas Hol...   \n",
       "\n",
       "                                 product_information  \\\n",
       "0  Technical Details Item Weight640 g Product Dim...   \n",
       "1  Technical Details Manufacturer recommended age...   \n",
       "\n",
       "                                 product_description  \\\n",
       "0  Product Description Hornby 2014 Catalogue Box ...   \n",
       "1  Size Name:Large FunkyBuys® Large Christmas Hol...   \n",
       "\n",
       "         items_customers_buy_after_viewing_this_item  \\\n",
       "0  http://www.amazon.co.uk/Hornby-R8150-Catalogue...   \n",
       "1  http://www.amazon.co.uk/Christmas-Holiday-Expr...   \n",
       "\n",
       "                      customer_questions_and_answers  \\\n",
       "0  Does this catalogue detail all the previous Ho...   \n",
       "1  can you turn off sounds // hi no you cant turn...   \n",
       "\n",
       "                                    customer_reviews  \\\n",
       "0  Worth Buying For The Pictures Alone (As Ever) ...   \n",
       "1  Four Stars // 4.0 // 18 Dec. 2015 // By\\n    \\...   \n",
       "\n",
       "                                             sellers  \n",
       "0  {\"seller\"=>[{\"Seller_name_1\"=>\"Amazon.co.uk\", ...  \n",
       "1  {\"seller\"=>{\"Seller_name_1\"=>\"UHD WHOLESALE\", ...  "
      ]
     },
     "execution_count": 96,
     "metadata": {},
     "output_type": "execute_result"
    }
   ],
   "source": [
    "# Here is an example of the dataset before cleaning\n",
    "target.head(2)"
   ]
  },
  {
   "cell_type": "code",
   "execution_count": 97,
   "id": "58317bd2",
   "metadata": {},
   "outputs": [],
   "source": [
    "#Adding new columns to split category and sub-category as well as extract review dates \n",
    "\n",
    "target['category'] = target.amazon_category_and_sub_category\n",
    "target['sub_category'] = target.amazon_category_and_sub_category\n",
    "target['recommendations'] = target.customers_who_bought_this_item_also_bought\n",
    "target['reviews'] = target.customer_reviews\n",
    "target['dates'] = target.customer_reviews\n"
   ]
  },
  {
   "cell_type": "code",
   "execution_count": 98,
   "id": "b72b353a",
   "metadata": {},
   "outputs": [],
   "source": [
    "# extracting the data from columns we would like to transform \n",
    "price = target['price'].values\n",
    "stock_inventory = target['number_available_in_stock'].values\n",
    "ratings = target['average_review_rating'].values\n",
    "category = target['category'].values\n",
    "sub_category = target['sub_category'].values\n",
    "recommendations = target['customers_who_bought_this_item_also_bought'].values\n",
    "alternatives = target['items_customers_buy_after_viewing_this_item'].values\n",
    "questions = target['customer_questions_and_answers'].values\n",
    "reviews = target['customer_reviews'].values\n",
    "dates = target['dates'].values\n"
   ]
  },
  {
   "cell_type": "code",
   "execution_count": 99,
   "id": "dd543781",
   "metadata": {},
   "outputs": [
    {
     "data": {
      "text/plain": [
       "array([False, False, False, ..., False, False, False])"
      ]
     },
     "execution_count": 99,
     "metadata": {},
     "output_type": "execute_result"
    }
   ],
   "source": [
    "#boolean key sample\n",
    "pd.isnull(dates)"
   ]
  },
  {
   "cell_type": "code",
   "execution_count": 100,
   "id": "52ecfa0a",
   "metadata": {},
   "outputs": [],
   "source": [
    "# creating the boolean keys forlooping through our variables of interest\n",
    "#each key is unique hence the duplication\n",
    "bool_series_price = pd.isnull(price)\n",
    "bool_series_stock_inventory = pd.isnull(stock_inventory)\n",
    "bool_series_ratings = pd.isnull(ratings)\n",
    "bool_series_category = pd.isnull(category)\n",
    "bool_series_sub_category = pd.isnull(sub_category)\n",
    "bool_series_recommendations = pd.isnull(recommendations)\n",
    "bool_series_alternatives = pd.isnull(alternatives)\n",
    "bool_series_questions = pd.isnull(questions)\n",
    "bool_series_reviews = pd.isnull(reviews)\n",
    "bool_series_dates = pd.isnull(dates)"
   ]
  },
  {
   "cell_type": "code",
   "execution_count": 101,
   "id": "0a22b132",
   "metadata": {},
   "outputs": [],
   "source": [
    "# ensuring serialization(for converting to a form easily iterable by the for loop)\n",
    "Series_price = pd.Series(price)\n",
    "Series_stock_inventory = pd.Series(stock_inventory)\n",
    "Series_ratings = pd.Series(ratings)\n",
    "Series_category= pd.Series(category)\n",
    "Series_sub_category= pd.Series(sub_category)\n",
    "Series_recommendations= pd.Series(recommendations)\n",
    "Series_alternatives= pd.Series(alternatives)\n",
    "Series_questions= pd.Series(questions)\n",
    "Series_reviews= pd.Series(reviews)\n",
    "Series_dates= pd.Series(dates)"
   ]
  },
  {
   "cell_type": "code",
   "execution_count": 102,
   "id": "00180f89",
   "metadata": {},
   "outputs": [
    {
     "name": "stdout",
     "output_type": "stream",
     "text": [
      "0     £3.42\n",
      "1    £16.99\n",
      "2     £9.99\n",
      "dtype: object\n"
     ]
    }
   ],
   "source": [
    "#here is how the data looks\n",
    "print(Series_price[0:3])"
   ]
  },
  {
   "cell_type": "code",
   "execution_count": 103,
   "id": "04777166",
   "metadata": {},
   "outputs": [],
   "source": [
    "#print(float(pd.Series(Series_price[5]).astype(str).str.slice_replace(start=0, stop =1).values[0]))"
   ]
  },
  {
   "cell_type": "markdown",
   "id": "e7326354",
   "metadata": {},
   "source": [
    "## Loops for Cleaning"
   ]
  },
  {
   "cell_type": "markdown",
   "id": "70256791",
   "metadata": {},
   "source": [
    "### 1. Price: Here we can remove the redundant \"5.0\""
   ]
  },
  {
   "cell_type": "code",
   "execution_count": 104,
   "id": "f3b4e27e",
   "metadata": {},
   "outputs": [
    {
     "data": {
      "text/plain": [
       "0    4.9 out of 5 stars\n",
       "1    4.5 out of 5 stars\n",
       "2    3.9 out of 5 stars\n",
       "dtype: object"
      ]
     },
     "execution_count": 104,
     "metadata": {},
     "output_type": "execute_result"
    }
   ],
   "source": [
    "Series_ratings[0:3]"
   ]
  },
  {
   "cell_type": "code",
   "execution_count": 105,
   "id": "0d469b74",
   "metadata": {},
   "outputs": [],
   "source": [
    "# loops to trim the ratings off \n",
    "# replacing for start series\n",
    "k = 0\n",
    "size = len(bool_series_ratings)\n",
    "while size > k :\n",
    "    if bool_series_ratings[k] == False:\n",
    "        Series_ratings[k] = float((pd.Series(Series_ratings[k]).astype(str).str.slice_replace(start=3)).values[0])\n",
    "        k=k+1\n",
    "    else: k=k+1"
   ]
  },
  {
   "cell_type": "code",
   "execution_count": 106,
   "id": "a80403ff",
   "metadata": {},
   "outputs": [
    {
     "data": {
      "text/plain": [
       "0    4.9\n",
       "1    4.5\n",
       "2    3.9\n",
       "dtype: object"
      ]
     },
     "execution_count": 106,
     "metadata": {},
     "output_type": "execute_result"
    }
   ],
   "source": [
    "Series_ratings[0:3]"
   ]
  },
  {
   "cell_type": "markdown",
   "id": "a57f238b",
   "metadata": {},
   "source": [
    "### 2. Stock: removing the redundant \"new\""
   ]
  },
  {
   "cell_type": "code",
   "execution_count": 107,
   "id": "f19a65aa",
   "metadata": {},
   "outputs": [
    {
     "data": {
      "text/plain": [
       "0    5 new\n",
       "1      NaN\n",
       "2    2 new\n",
       "dtype: object"
      ]
     },
     "execution_count": 107,
     "metadata": {},
     "output_type": "execute_result"
    }
   ],
   "source": [
    "Series_stock_inventory[0:3]"
   ]
  },
  {
   "cell_type": "code",
   "execution_count": 108,
   "id": "8b81b119",
   "metadata": {},
   "outputs": [],
   "source": [
    "# loops to number left off goods off\n",
    "l = 0\n",
    "size2 = len(bool_series_stock_inventory)\n",
    "while size2 > l:\n",
    "    if bool_series_stock_inventory[l] == False:\n",
    "        Series_stock_inventory[l] = float((pd.Series(Series_stock_inventory[l]).astype(str).str.slice_replace(start=1)).values[0])\n",
    "        l=l+1\n",
    "    else: l=l+1\n",
    "    \n",
    "\n"
   ]
  },
  {
   "cell_type": "code",
   "execution_count": 109,
   "id": "07983878",
   "metadata": {},
   "outputs": [
    {
     "data": {
      "text/plain": [
       "0    5.0\n",
       "1    NaN\n",
       "2    2.0\n",
       "dtype: object"
      ]
     },
     "execution_count": 109,
     "metadata": {},
     "output_type": "execute_result"
    }
   ],
   "source": [
    "Series_stock_inventory[0:3]"
   ]
  },
  {
   "cell_type": "markdown",
   "id": "fb34a7b8",
   "metadata": {},
   "source": [
    "### 3. Price: removing the redundant \"£\""
   ]
  },
  {
   "cell_type": "code",
   "execution_count": 110,
   "id": "dddd8d47",
   "metadata": {},
   "outputs": [
    {
     "data": {
      "text/plain": [
       "0     £3.42\n",
       "1    £16.99\n",
       "2     £9.99\n",
       "dtype: object"
      ]
     },
     "execution_count": 110,
     "metadata": {},
     "output_type": "execute_result"
    }
   ],
   "source": [
    "Series_price[0:3]"
   ]
  },
  {
   "cell_type": "code",
   "execution_count": 111,
   "id": "862728c6",
   "metadata": {},
   "outputs": [],
   "source": [
    "# loops to trim price \n",
    "\n",
    "#must convert to type float in pandas \n",
    "\n",
    "\n",
    "# replacing for Series_price\n",
    "k = 0\n",
    "size = len(bool_series_ratings)\n",
    "while size > k :\n",
    "    if (bool_series_ratings[k] == False and Series_price[k] != \"NaN\"):\n",
    "        Series_price[k] = (pd.Series(Series_price[k]).astype(str).str.slice_replace(start=0, stop =1)).values[0]\n",
    "        k=k+1\n",
    "    else: k=k+1"
   ]
  },
  {
   "cell_type": "code",
   "execution_count": 112,
   "id": "668f2d65",
   "metadata": {},
   "outputs": [
    {
     "data": {
      "text/plain": [
       "0     3.42\n",
       "1    16.99\n",
       "2     9.99\n",
       "dtype: object"
      ]
     },
     "execution_count": 112,
     "metadata": {},
     "output_type": "execute_result"
    }
   ],
   "source": [
    "Series_price[0:3]"
   ]
  },
  {
   "cell_type": "markdown",
   "id": "d707e71a",
   "metadata": {},
   "source": [
    "### 4. Splitting Category into two levels; Category and Sub-Category"
   ]
  },
  {
   "cell_type": "code",
   "execution_count": 113,
   "id": "60995aaf",
   "metadata": {},
   "outputs": [
    {
     "data": {
      "text/plain": [
       "0    Hobbies > Model Trains & Railway Sets > Rail V...\n",
       "1    Hobbies > Model Trains & Railway Sets > Rail V...\n",
       "2    Hobbies > Model Trains & Railway Sets > Rail V...\n",
       "dtype: object"
      ]
     },
     "execution_count": 113,
     "metadata": {},
     "output_type": "execute_result"
    }
   ],
   "source": [
    "Series_category[0:3]"
   ]
  },
  {
   "cell_type": "code",
   "execution_count": 114,
   "id": "dc311075",
   "metadata": {},
   "outputs": [],
   "source": [
    "# need to split category into two \n",
    "\n",
    "bool_series_category = pd.isnull(category)\n",
    "Series_category= pd.Series(category)\n",
    "\n",
    "\n",
    "# replacing for Series_category\n",
    "k = 0\n",
    "size = len(bool_series_category)\n",
    "while size > k :\n",
    "    if (bool_series_category[k] == False and Series_category[k] != \"NaN\"):\n",
    "        end_index = Series_category[k].index(\">\")\n",
    "        Series_category[k] = (pd.Series(Series_category[k]).astype(str).str.slice_replace(start=end_index)).values[0]\n",
    "        k=k+1\n",
    "    else: k=k+1\n"
   ]
  },
  {
   "cell_type": "code",
   "execution_count": 115,
   "id": "b0046372",
   "metadata": {},
   "outputs": [
    {
     "data": {
      "text/plain": [
       "0    Hobbies \n",
       "1    Hobbies \n",
       "2    Hobbies \n",
       "dtype: object"
      ]
     },
     "execution_count": 115,
     "metadata": {},
     "output_type": "execute_result"
    }
   ],
   "source": [
    "Series_category[0:3]"
   ]
  },
  {
   "cell_type": "code",
   "execution_count": null,
   "id": "d89337a4",
   "metadata": {},
   "outputs": [],
   "source": []
  },
  {
   "cell_type": "code",
   "execution_count": 116,
   "id": "31c43616",
   "metadata": {},
   "outputs": [
    {
     "data": {
      "text/plain": [
       "0    Hobbies > Model Trains & Railway Sets > Rail V...\n",
       "1    Hobbies > Model Trains & Railway Sets > Rail V...\n",
       "2    Hobbies > Model Trains & Railway Sets > Rail V...\n",
       "dtype: object"
      ]
     },
     "execution_count": 116,
     "metadata": {},
     "output_type": "execute_result"
    }
   ],
   "source": [
    "Series_sub_category[0:3]"
   ]
  },
  {
   "cell_type": "code",
   "execution_count": 117,
   "id": "bcdec42a",
   "metadata": {},
   "outputs": [],
   "source": [
    "# for sub_category \n",
    "\n",
    "# replacing for Series_sub_category\n",
    "k = 0\n",
    "size = len(bool_series_sub_category)\n",
    "while size > k :\n",
    "    if (bool_series_sub_category[k] == False and Series_sub_category[k] != \"NaN\"):\n",
    "        \n",
    "        start = Series_sub_category[k].find(\">\") + len(\">\")\n",
    "        substring = Series_sub_category[k][start:]\n",
    "        end = substring.find(\">\")\n",
    "        Series_sub_category[k] = substring[:end]\n",
    "\n",
    "        k=k+1\n",
    "    else: k=k+1"
   ]
  },
  {
   "cell_type": "code",
   "execution_count": 118,
   "id": "977eb828",
   "metadata": {},
   "outputs": [
    {
     "data": {
      "text/plain": [
       "0     Model Trains & Railway Sets \n",
       "1     Model Trains & Railway Sets \n",
       "2     Model Trains & Railway Sets \n",
       "dtype: object"
      ]
     },
     "execution_count": 118,
     "metadata": {},
     "output_type": "execute_result"
    }
   ],
   "source": [
    "Series_sub_category[0:3]"
   ]
  },
  {
   "cell_type": "markdown",
   "id": "2e566045",
   "metadata": {},
   "source": [
    "#### Notice \"Hobbies > Model Trains & Railway Sets \" becoming \"Hobbies \" and \"Model Trains & Railway Sets \" in index 0"
   ]
  },
  {
   "cell_type": "markdown",
   "id": "ecc19d2f",
   "metadata": {},
   "source": [
    "### 5. Recommendations: the recommended items are enclosed in amazon website tags "
   ]
  },
  {
   "cell_type": "code",
   "execution_count": 119,
   "id": "5cc4fe42",
   "metadata": {},
   "outputs": [
    {
     "data": {
      "text/plain": [
       "0    http://www.amazon.co.uk/Hornby-R8150-Catalogue...\n",
       "1    http://www.amazon.co.uk/Christmas-Holiday-Expr...\n",
       "2    http://www.amazon.co.uk/Classic-Train-Lights-B...\n",
       "dtype: object"
      ]
     },
     "execution_count": 119,
     "metadata": {},
     "output_type": "execute_result"
    }
   ],
   "source": [
    "Series_recommendations[0:3]"
   ]
  },
  {
   "cell_type": "code",
   "execution_count": 120,
   "id": "107fd090",
   "metadata": {},
   "outputs": [],
   "source": [
    "# recommendations \n",
    "\n",
    "# replacing for Series_recommendations\n",
    "k = 0\n",
    "size = len(bool_series_recommendations)\n",
    "while size > k :\n",
    "    if (bool_series_recommendations[k] == False and Series_recommendations[k] != \"NaN\"):\n",
    "        start = Series_recommendations[k].find(\"http://www.amazon.co.uk/\") + len(\"http://www.amazon.co.uk/\")\n",
    "        end = Series_recommendations[k].find(\"/dp/\")\n",
    "        Series_recommendations[k]= Series_recommendations[k][start:end]\n",
    "\n",
    "        k=k+1\n",
    "    else: k=k+1\n"
   ]
  },
  {
   "cell_type": "code",
   "execution_count": 121,
   "id": "aa38baaf",
   "metadata": {},
   "outputs": [
    {
     "data": {
      "text/plain": [
       "0                        Hornby-R8150-Catalogue-2015\n",
       "1    Christmas-Holiday-Express-Festive-Train-Set-Toy\n",
       "2              Classic-Train-Lights-Battery-Operated\n",
       "dtype: object"
      ]
     },
     "execution_count": 121,
     "metadata": {},
     "output_type": "execute_result"
    }
   ],
   "source": [
    "Series_recommendations[0:3]"
   ]
  },
  {
   "cell_type": "markdown",
   "id": "f38d82af",
   "metadata": {},
   "source": [
    "### 6. Alternatives : the alternative items are enclosed in amazon website tags "
   ]
  },
  {
   "cell_type": "code",
   "execution_count": 122,
   "id": "8768fe4c",
   "metadata": {},
   "outputs": [
    {
     "data": {
      "text/plain": [
       "0    http://www.amazon.co.uk/Hornby-R8150-Catalogue...\n",
       "1    http://www.amazon.co.uk/Christmas-Holiday-Expr...\n",
       "2    http://www.amazon.co.uk/Train-With-Tracks-Batt...\n",
       "dtype: object"
      ]
     },
     "execution_count": 122,
     "metadata": {},
     "output_type": "execute_result"
    }
   ],
   "source": [
    "Series_alternatives[0:3]"
   ]
  },
  {
   "cell_type": "code",
   "execution_count": 123,
   "id": "6a0970ed",
   "metadata": {},
   "outputs": [],
   "source": [
    "# alternatives \n",
    "k = 0\n",
    "size = len(bool_series_alternatives)\n",
    "while size > k :\n",
    "    if (bool_series_alternatives[k] == False and Series_alternatives[k] != \"NaN\"):\n",
    "        start = Series_alternatives[k].find(\"http://www.amazon.co.uk/\") + len(\"http://www.amazon.co.uk/\")\n",
    "        end = Series_alternatives[k].find(\"/dp/\")\n",
    "        Series_alternatives[k]= Series_alternatives[k][start:end]\n",
    "\n",
    "        k=k+1\n",
    "    else: k=k+1\n"
   ]
  },
  {
   "cell_type": "code",
   "execution_count": 124,
   "id": "dd82071e",
   "metadata": {},
   "outputs": [
    {
     "data": {
      "text/plain": [
       "0                        Hornby-R8150-Catalogue-2015\n",
       "1    Christmas-Holiday-Express-Festive-Train-Set-Toy\n",
       "2               Train-With-Tracks-Battery-Operated-x\n",
       "dtype: object"
      ]
     },
     "execution_count": 124,
     "metadata": {},
     "output_type": "execute_result"
    }
   ],
   "source": [
    "Series_alternatives[0:3]"
   ]
  },
  {
   "cell_type": "markdown",
   "id": "31088887",
   "metadata": {},
   "source": [
    "### 7. Questions : removing the irrelevant text after the \"//\""
   ]
  },
  {
   "cell_type": "code",
   "execution_count": 125,
   "id": "02167861",
   "metadata": {},
   "outputs": [
    {
     "data": {
      "text/plain": [
       "0    Does this catalogue detail all the previous Ho...\n",
       "1    can you turn off sounds // hi no you cant turn...\n",
       "2    What is the gauge of the track // Hi Paul.Trut...\n",
       "dtype: object"
      ]
     },
     "execution_count": 125,
     "metadata": {},
     "output_type": "execute_result"
    }
   ],
   "source": [
    "Series_questions[0:3]"
   ]
  },
  {
   "cell_type": "code",
   "execution_count": 126,
   "id": "f5d7233d",
   "metadata": {},
   "outputs": [],
   "source": [
    "# questions\n",
    "\n",
    "k = 0\n",
    "size = len(bool_series_questions)\n",
    "while size > k :\n",
    "    if (bool_series_questions[k] == False):\n",
    "        End = Series_questions[k].index(\"//\")\n",
    "        \n",
    "        Series_questions[k]= (pd.Series(Series_questions[k]).astype(str).str.slice(start=0, stop = End)).values[0]\n",
    "\n",
    "        k=k+1\n",
    "    else: k=k+1"
   ]
  },
  {
   "cell_type": "code",
   "execution_count": 127,
   "id": "8b8ae667",
   "metadata": {},
   "outputs": [
    {
     "data": {
      "text/plain": [
       "0    Does this catalogue detail all the previous Ho...\n",
       "1                             can you turn off sounds \n",
       "2                      What is the gauge of the track \n",
       "dtype: object"
      ]
     },
     "execution_count": 127,
     "metadata": {},
     "output_type": "execute_result"
    }
   ],
   "source": [
    "Series_questions[0:3]"
   ]
  },
  {
   "cell_type": "markdown",
   "id": "3275c33f",
   "metadata": {},
   "source": [
    "### 8. Reviews : removing the irrelevant text after the \"//\""
   ]
  },
  {
   "cell_type": "code",
   "execution_count": 128,
   "id": "565f3bbd",
   "metadata": {},
   "outputs": [
    {
     "data": {
      "text/plain": [
       "0    Worth Buying For The Pictures Alone (As Ever) ...\n",
       "1    Four Stars // 4.0 // 18 Dec. 2015 // By\\n    \\...\n",
       "2    **Highly Recommended!** // 5.0 // 26 May 2015 ...\n",
       "dtype: object"
      ]
     },
     "execution_count": 128,
     "metadata": {},
     "output_type": "execute_result"
    }
   ],
   "source": [
    "Series_reviews[0:3]"
   ]
  },
  {
   "cell_type": "code",
   "execution_count": 129,
   "id": "c7254baa",
   "metadata": {},
   "outputs": [],
   "source": [
    "#Series_reviews\n",
    "\n",
    "k = 0\n",
    "size = len(bool_series_reviews)\n",
    "while size > k :\n",
    "    if (bool_series_reviews[k] == False):\n",
    "        end = Series_reviews[k].index(\"//\")\n",
    "        \n",
    "        Series_reviews[k]= (pd.Series(Series_reviews[k]).astype(str).str.slice(start=0, stop = end)).values[0]\n",
    "\n",
    "        k=k+1\n",
    "    else: k=k+1"
   ]
  },
  {
   "cell_type": "code",
   "execution_count": 130,
   "id": "e64c3b06",
   "metadata": {},
   "outputs": [
    {
     "data": {
      "text/plain": [
       "0    Worth Buying For The Pictures Alone (As Ever) \n",
       "1                                       Four Stars \n",
       "2                          **Highly Recommended!** \n",
       "dtype: object"
      ]
     },
     "execution_count": 130,
     "metadata": {},
     "output_type": "execute_result"
    }
   ],
   "source": [
    "Series_reviews[0:3]"
   ]
  },
  {
   "cell_type": "markdown",
   "id": "687c17f5",
   "metadata": {},
   "source": [
    "### 9. Dates :extracting dates from the reviews."
   ]
  },
  {
   "cell_type": "code",
   "execution_count": 131,
   "id": "c88ea8e0",
   "metadata": {},
   "outputs": [],
   "source": [
    "#Series_dates\n",
    "\n",
    "k = 0\n",
    "size = len(bool_series_dates)\n",
    "while size > k :\n",
    "    if (bool_series_dates[k] == False and Series_dates[k] != \"NaN\"):\n",
    "        start = Series_dates[k].find(\".0 // \")+len(\".0 // \")\n",
    "        end = Series_dates[k].find(\"// By\")\n",
    "        Series_dates[k] = Series_dates[k][start:end]\n",
    "        k=k+1\n",
    "    else: k=k+1"
   ]
  },
  {
   "cell_type": "code",
   "execution_count": 132,
   "id": "3547b50d",
   "metadata": {},
   "outputs": [
    {
     "data": {
      "text/plain": [
       "0    6 April 2014 \n",
       "1    18 Dec. 2015 \n",
       "dtype: object"
      ]
     },
     "execution_count": 132,
     "metadata": {},
     "output_type": "execute_result"
    }
   ],
   "source": [
    "Series_dates[0:2]"
   ]
  },
  {
   "cell_type": "markdown",
   "id": "d17417ce",
   "metadata": {},
   "source": [
    "### 10. Storing the new file"
   ]
  },
  {
   "cell_type": "code",
   "execution_count": 133,
   "id": "1d09b54d",
   "metadata": {},
   "outputs": [],
   "source": [
    "#creating new file \n",
    "#Create file using an empty/dummy dataframe\n",
    "clean_fashion = pd.DataFrame(\n",
    "columns=['product_name','manufacturer', 'price(£)','inventory_count',\n",
    "         'review_count','answered_questions','rating','category',\n",
    "         'sub_category','recommendations','alternatives','questions',\n",
    "         'reviews','dates'])\n",
    "#clean_fashion.head()\n",
    "\n",
    "clean_fashion['product_name'] = target.product_name\n",
    "clean_fashion['manufacturer'] = target.manufacturer\n",
    "clean_fashion['inventory_count'] = target.number_available_in_stock\n",
    "clean_fashion['price_£'] = Series_price\n",
    "clean_fashion['rating'] = Series_ratings\n",
    "clean_fashion['review_count'] = target.number_of_reviews\n",
    "clean_fashion['answered_questions'] = target.number_of_answered_questions\n",
    "clean_fashion['category'] = Series_category\n",
    "clean_fashion['sub_category'] = Series_sub_category\n",
    "clean_fashion['recommendations'] = Series_recommendations\n",
    "clean_fashion['alternatives'] = Series_alternatives\n",
    "clean_fashion['questions'] = Series_questions\n",
    "clean_fashion['reviews'] = Series_reviews\n",
    "clean_fashion['dates'] = Series_dates"
   ]
  },
  {
   "cell_type": "code",
   "execution_count": 134,
   "id": "2d65e865",
   "metadata": {
    "scrolled": true
   },
   "outputs": [
    {
     "data": {
      "text/html": [
       "<div>\n",
       "<style scoped>\n",
       "    .dataframe tbody tr th:only-of-type {\n",
       "        vertical-align: middle;\n",
       "    }\n",
       "\n",
       "    .dataframe tbody tr th {\n",
       "        vertical-align: top;\n",
       "    }\n",
       "\n",
       "    .dataframe thead th {\n",
       "        text-align: right;\n",
       "    }\n",
       "</style>\n",
       "<table border=\"1\" class=\"dataframe\">\n",
       "  <thead>\n",
       "    <tr style=\"text-align: right;\">\n",
       "      <th></th>\n",
       "      <th>product_name</th>\n",
       "      <th>manufacturer</th>\n",
       "      <th>price(£)</th>\n",
       "      <th>inventory_count</th>\n",
       "      <th>review_count</th>\n",
       "      <th>answered_questions</th>\n",
       "      <th>rating</th>\n",
       "      <th>category</th>\n",
       "      <th>sub_category</th>\n",
       "      <th>recommendations</th>\n",
       "      <th>alternatives</th>\n",
       "      <th>questions</th>\n",
       "      <th>reviews</th>\n",
       "      <th>dates</th>\n",
       "      <th>price_£</th>\n",
       "    </tr>\n",
       "  </thead>\n",
       "  <tbody>\n",
       "    <tr>\n",
       "      <th>0</th>\n",
       "      <td>Hornby 2014 Catalogue</td>\n",
       "      <td>Hornby</td>\n",
       "      <td>NaN</td>\n",
       "      <td>5.0</td>\n",
       "      <td>15.0</td>\n",
       "      <td>1.0</td>\n",
       "      <td>4.9</td>\n",
       "      <td>Hobbies</td>\n",
       "      <td>Model Trains &amp; Railway Sets</td>\n",
       "      <td>Hornby-R8150-Catalogue-2015</td>\n",
       "      <td>Hornby-R8150-Catalogue-2015</td>\n",
       "      <td>Does this catalogue detail all the previous Ho...</td>\n",
       "      <td>Worth Buying For The Pictures Alone (As Ever)</td>\n",
       "      <td>6 April 2014</td>\n",
       "      <td>3.42</td>\n",
       "    </tr>\n",
       "    <tr>\n",
       "      <th>1</th>\n",
       "      <td>FunkyBuys® Large Christmas Holiday Express Fes...</td>\n",
       "      <td>FunkyBuys</td>\n",
       "      <td>NaN</td>\n",
       "      <td>NaN</td>\n",
       "      <td>2.0</td>\n",
       "      <td>1.0</td>\n",
       "      <td>4.5</td>\n",
       "      <td>Hobbies</td>\n",
       "      <td>Model Trains &amp; Railway Sets</td>\n",
       "      <td>Christmas-Holiday-Express-Festive-Train-Set-Toy</td>\n",
       "      <td>Christmas-Holiday-Express-Festive-Train-Set-Toy</td>\n",
       "      <td>can you turn off sounds</td>\n",
       "      <td>Four Stars</td>\n",
       "      <td>18 Dec. 2015</td>\n",
       "      <td>16.99</td>\n",
       "    </tr>\n",
       "  </tbody>\n",
       "</table>\n",
       "</div>"
      ],
      "text/plain": [
       "                                        product_name manufacturer price(£)  \\\n",
       "0                              Hornby 2014 Catalogue       Hornby      NaN   \n",
       "1  FunkyBuys® Large Christmas Holiday Express Fes...    FunkyBuys      NaN   \n",
       "\n",
       "  inventory_count  review_count  answered_questions rating  category  \\\n",
       "0             5.0          15.0                 1.0    4.9  Hobbies    \n",
       "1             NaN           2.0                 1.0    4.5  Hobbies    \n",
       "\n",
       "                    sub_category  \\\n",
       "0   Model Trains & Railway Sets    \n",
       "1   Model Trains & Railway Sets    \n",
       "\n",
       "                                   recommendations  \\\n",
       "0                      Hornby-R8150-Catalogue-2015   \n",
       "1  Christmas-Holiday-Express-Festive-Train-Set-Toy   \n",
       "\n",
       "                                      alternatives  \\\n",
       "0                      Hornby-R8150-Catalogue-2015   \n",
       "1  Christmas-Holiday-Express-Festive-Train-Set-Toy   \n",
       "\n",
       "                                           questions  \\\n",
       "0  Does this catalogue detail all the previous Ho...   \n",
       "1                           can you turn off sounds    \n",
       "\n",
       "                                          reviews          dates price_£  \n",
       "0  Worth Buying For The Pictures Alone (As Ever)   6 April 2014     3.42  \n",
       "1                                     Four Stars   18 Dec. 2015    16.99  "
      ]
     },
     "execution_count": 134,
     "metadata": {},
     "output_type": "execute_result"
    }
   ],
   "source": [
    "clean_fashion.head(2)"
   ]
  },
  {
   "cell_type": "code",
   "execution_count": null,
   "id": "b1b11ab9",
   "metadata": {},
   "outputs": [],
   "source": []
  },
  {
   "cell_type": "code",
   "execution_count": 135,
   "id": "e2e01ed0",
   "metadata": {},
   "outputs": [
    {
     "name": "stdout",
     "output_type": "stream",
     "text": [
      "done\n"
     ]
    }
   ],
   "source": [
    "# writing to sheet in excel file \n",
    "clean_fashion.to_csv(\"Clean_amzn_dataset.csv\",index = False)\n",
    "\n",
    "print('done')"
   ]
  },
  {
   "cell_type": "markdown",
   "id": "0f37dd47",
   "metadata": {},
   "source": [
    "#### Future work would include writing a \"cleaner\" function"
   ]
  },
  {
   "cell_type": "code",
   "execution_count": null,
   "id": "c87e625b",
   "metadata": {},
   "outputs": [],
   "source": []
  }
 ],
 "metadata": {
  "kernelspec": {
   "display_name": "Python 3",
   "language": "python",
   "name": "python3"
  },
  "language_info": {
   "codemirror_mode": {
    "name": "ipython",
    "version": 3
   },
   "file_extension": ".py",
   "mimetype": "text/x-python",
   "name": "python",
   "nbconvert_exporter": "python",
   "pygments_lexer": "ipython3",
   "version": "3.8.8"
  }
 },
 "nbformat": 4,
 "nbformat_minor": 5
}
